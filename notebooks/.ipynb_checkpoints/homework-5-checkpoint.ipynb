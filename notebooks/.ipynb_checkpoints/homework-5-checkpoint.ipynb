{
 "cells": [
  {
   "cell_type": "code",
   "execution_count": 1,
   "metadata": {},
   "outputs": [],
   "source": [
    "import numpy as np\n",
    "from scipy.optimize import approx_fprime\n",
    "from scipy.optimize import minimize\n",
    "from sympy import diff, symbols, cos, sin\n",
    "x, y = symbols('x y')"
   ]
  },
  {
   "cell_type": "markdown",
   "metadata": {},
   "source": [
    "### Задание 1: \n",
    "Посчитайте частные производные функций\n",
    "(как обычно, необходимо решение на бумажке или в LaTeX и на scipy):"
   ]
  },
  {
   "cell_type": "markdown",
   "metadata": {},
   "source": [
    "1) $f(x,y)=2x^2y^3 + 1/x + y^2x + 7$, а для этой функции также градиент в точке $(1,2)$\n",
    "\n",
    "2) $f(x,y)=x^2y - sin(xy) + cos(x^2) + 6y$"
   ]
  },
  {
   "cell_type": "code",
   "execution_count": 2,
   "metadata": {},
   "outputs": [
    {
     "data": {
      "text/latex": [
       "$\\displaystyle 2 x^{2} y^{3} + x y^{2} + 7 + \\frac{1}{x}$"
      ],
      "text/plain": [
       "2*x**2*y**3 + x*y**2 + 7 + 1/x"
      ]
     },
     "metadata": {},
     "output_type": "display_data"
    },
    {
     "data": {
      "text/latex": [
       "$\\displaystyle 4 x y^{3} + y^{2} - \\frac{1}{x^{2}}$"
      ],
      "text/plain": [
       "4*x*y**3 + y**2 - 1/x**2"
      ]
     },
     "metadata": {},
     "output_type": "display_data"
    },
    {
     "data": {
      "text/latex": [
       "$\\displaystyle 6 x^{2} y^{2} + 2 x y$"
      ],
      "text/plain": [
       "6*x**2*y**2 + 2*x*y"
      ]
     },
     "metadata": {},
     "output_type": "display_data"
    }
   ],
   "source": [
    "def func1(x, y):\n",
    "    return 2 * pow(x, 2) * pow(y, 3) + 1 / x + 1 * pow(y, 2) * x + 7\n",
    "\n",
    "display(func1(x, y))\n",
    "display(diff(func1(x, y), x))\n",
    "display(diff(func1(x, y), y))"
   ]
  },
  {
   "cell_type": "code",
   "execution_count": 3,
   "metadata": {},
   "outputs": [
    {
     "data": {
      "text/plain": [
       "array([35.00000024, 28.00000024])"
      ]
     },
     "execution_count": 3,
     "metadata": {},
     "output_type": "execute_result"
    }
   ],
   "source": [
    "def func1_(xy):\n",
    "    x, y = xy\n",
    "    return 2 * pow(x, 2) * pow(y, 3) + 1 / x + 1 * pow(y, 2) * x + 7\n",
    "\n",
    "eps = np.sqrt(np.finfo(float).eps)\n",
    "approx_fprime([1, 2], func1_, [eps, eps])"
   ]
  },
  {
   "cell_type": "code",
   "execution_count": 4,
   "metadata": {},
   "outputs": [
    {
     "data": {
      "text/latex": [
       "$\\displaystyle 2 x^{2} y + 6 y - \\sin{\\left(x y \\right)} + \\cos{\\left(x^{2} \\right)}$"
      ],
      "text/plain": [
       "2*x**2*y + 6*y - sin(x*y) + cos(x**2)"
      ]
     },
     "metadata": {},
     "output_type": "display_data"
    },
    {
     "data": {
      "text/latex": [
       "$\\displaystyle 4 x y - 2 x \\sin{\\left(x^{2} \\right)} - y \\cos{\\left(x y \\right)}$"
      ],
      "text/plain": [
       "4*x*y - 2*x*sin(x**2) - y*cos(x*y)"
      ]
     },
     "metadata": {},
     "output_type": "display_data"
    },
    {
     "data": {
      "text/latex": [
       "$\\displaystyle 2 x^{2} - x \\cos{\\left(x y \\right)} + 6$"
      ],
      "text/plain": [
       "2*x**2 - x*cos(x*y) + 6"
      ]
     },
     "metadata": {},
     "output_type": "display_data"
    }
   ],
   "source": [
    "def func2(x, y):\n",
    "    return 2 * pow(x, 2) * y - 1 * sin(x * y) + 1 * cos(pow(x, 2)) + 6 * y\n",
    "\n",
    "display(func2(x, y))\n",
    "display(diff(func2(x, y), x))\n",
    "display(diff(func2(x, y), y))"
   ]
  },
  {
   "cell_type": "markdown",
   "metadata": {},
   "source": [
    "### Задание 2:\n",
    "\n",
    "Градиентный спуск своими руками"
   ]
  },
  {
   "cell_type": "code",
   "execution_count": 5,
   "metadata": {},
   "outputs": [],
   "source": [
    "def f(x):\n",
    "    return (x[0]**2) + (x[1]**2) "
   ]
  },
  {
   "cell_type": "code",
   "execution_count": 6,
   "metadata": {},
   "outputs": [],
   "source": [
    "x = np.array([100, 200])\n",
    "learning_rate = 0.1"
   ]
  },
  {
   "cell_type": "code",
   "execution_count": 7,
   "metadata": {},
   "outputs": [],
   "source": [
    "eps = np.sqrt(np.finfo(float).eps)\n",
    "grad = np.zeros(2)\n",
    "func_array = []\n",
    "for i in range(1000):\n",
    "    previous_grad = grad\n",
    "    grad = approx_fprime(x, f, [eps, eps])\n",
    "    \n",
    "    if i != 0 and grad[0] == previous_grad[0]:\n",
    "        break\n",
    "    x = x - learning_rate * grad\n",
    "    \n",
    "    func_array.append(f(x))"
   ]
  },
  {
   "cell_type": "code",
   "execution_count": 8,
   "metadata": {},
   "outputs": [
    {
     "name": "stdout",
     "output_type": "stream",
     "text": [
      "Минимум достигается в:  [-7.4505806e-09 -7.4505806e-09]\n",
      "Значение функции в минимуме:  1.1102230246251558e-16\n"
     ]
    }
   ],
   "source": [
    "print(\"Минимум достигается в: \", x)\n",
    "print(\"Значение функции в минимуме: \", f(x))"
   ]
  },
  {
   "cell_type": "markdown",
   "metadata": {},
   "source": [
    "Проверка с помощью встроенной функции numpy: "
   ]
  },
  {
   "cell_type": "code",
   "execution_count": 9,
   "metadata": {},
   "outputs": [
    {
     "name": "stdout",
     "output_type": "stream",
     "text": [
      "Optimization terminated successfully.\n",
      "         Current function value: 0.000000\n",
      "         Iterations: 72\n",
      "         Function evaluations: 138\n"
     ]
    },
    {
     "data": {
      "text/plain": [
       " final_simplex: (array([[ 2.95771327e-07,  6.94893813e-08],\n",
       "       [-4.58440767e-07,  4.28023999e-07],\n",
       "       [-1.29572072e-08, -7.25847730e-07]]), array([9.23094520e-14, 3.93372481e-13, 5.27022817e-13]))\n",
       "           fun: 9.23094520377088e-14\n",
       "       message: 'Optimization terminated successfully.'\n",
       "          nfev: 138\n",
       "           nit: 72\n",
       "        status: 0\n",
       "       success: True\n",
       "             x: array([2.95771327e-07, 6.94893813e-08])"
      ]
     },
     "execution_count": 9,
     "metadata": {},
     "output_type": "execute_result"
    }
   ],
   "source": [
    "minimize(f, np.array([100, 200]), method='nelder-mead', options={'xtol': 1e-6, 'disp': True})"
   ]
  }
 ],
 "metadata": {
  "kernelspec": {
   "display_name": "Python 3",
   "language": "python",
   "name": "python3"
  },
  "language_info": {
   "codemirror_mode": {
    "name": "ipython",
    "version": 3
   },
   "file_extension": ".py",
   "mimetype": "text/x-python",
   "name": "python",
   "nbconvert_exporter": "python",
   "pygments_lexer": "ipython3",
   "version": "3.8.5"
  }
 },
 "nbformat": 4,
 "nbformat_minor": 2
}
